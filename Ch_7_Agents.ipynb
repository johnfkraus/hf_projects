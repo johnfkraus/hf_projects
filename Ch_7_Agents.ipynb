{
 "cells": [
  {
   "cell_type": "markdown",
   "id": "5d4a81a3-9cf4-4bd0-99be-d3d627c66a3b",
   "metadata": {},
   "source": [
    "LLM agents refer to software entities designed to perform tasks autonomously or semi-autonomously using the capabilities of the LLM. An agent processes a user's request given in natural language, which might be ambiguous and complex. The agent then decomposes the request into specific tasks and assigns these tasks to the appropriate tools."
   ]
  },
  {
   "cell_type": "code",
   "execution_count": null,
   "id": "9cd40459-4f3c-4ec5-8b19-fceec817b5f9",
   "metadata": {},
   "outputs": [],
   "source": []
  }
 ],
 "metadata": {
  "kernelspec": {
   "display_name": "Python (py313)",
   "language": "python",
   "name": "py313"
  },
  "language_info": {
   "codemirror_mode": {
    "name": "ipython",
    "version": 3
   },
   "file_extension": ".py",
   "mimetype": "text/x-python",
   "name": "python",
   "nbconvert_exporter": "python",
   "pygments_lexer": "ipython3",
   "version": "3.13.5"
  }
 },
 "nbformat": 4,
 "nbformat_minor": 5
}
